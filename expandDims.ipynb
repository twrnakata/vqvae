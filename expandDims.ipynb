{
 "cells": [
  {
   "cell_type": "code",
   "execution_count": 23,
   "metadata": {},
   "outputs": [
    {
     "name": "stdout",
     "output_type": "stream",
     "text": [
      "x: tf.Tensor(\n",
      "[[ 2.  3.  6.]\n",
      " [ 4.  8. 15.]], shape=(2, 3), dtype=float32)\n"
     ]
    }
   ],
   "source": [
    "# Importing the library\n",
    "import tensorflow as tf\n",
    " \n",
    "# Initializing the input\n",
    "x = tf.constant([[2, 3, 6], [4, 8, 15]], dtype=tf.float32)\n",
    "y = tf.constant([[6, 8, 10], [9, 9, 1]], dtype=tf.float32)\n",
    " \n",
    "# Printing the input\n",
    "print('x:', x)\n",
    " \n",
    "# Calculating result\n",
    "# res = tf.expand_dims(x, 1)\n",
    "# res2 = tf.expand_dims(y, 1)"
   ]
  },
  {
   "cell_type": "code",
   "execution_count": 24,
   "metadata": {},
   "outputs": [
    {
     "data": {
      "text/plain": [
       "<tf.Tensor: shape=(2, 3), dtype=float32, numpy=\n",
       "array([[ 2.,  3.,  6.],\n",
       "       [ 4.,  8., 15.]], dtype=float32)>"
      ]
     },
     "execution_count": 24,
     "metadata": {},
     "output_type": "execute_result"
    }
   ],
   "source": [
    "x"
   ]
  },
  {
   "cell_type": "markdown",
   "metadata": {},
   "source": [
    "axis จะคล้าย reduce_sum เมื่อกำหนด axis ที่แถวนั้น แถวนั้นจะหายไป"
   ]
  },
  {
   "cell_type": "code",
   "execution_count": 36,
   "metadata": {},
   "outputs": [
    {
     "name": "stdout",
     "output_type": "stream",
     "text": [
      "tf.Tensor(16.703293, shape=(), dtype=float32)\n",
      "tf.Tensor([ 6.403124   5.0990195 14.56022  ], shape=(3,), dtype=float32)\n",
      "tf.Tensor([ 7.5498343 14.899664 ], shape=(2,), dtype=float32)\n"
     ]
    }
   ],
   "source": [
    "dist = tf.norm(x - y)\n",
    "print(dist)\n",
    "dist = tf.norm(x - y, axis=0)\n",
    "print(dist)\n",
    "dist = tf.norm(x - y, axis=1)\n",
    "print(dist)"
   ]
  },
  {
   "cell_type": "code",
   "execution_count": 37,
   "metadata": {},
   "outputs": [
    {
     "name": "stdout",
     "output_type": "stream",
     "text": [
      "tf.Tensor([ 7.5498343 14.899664 ], shape=(2,), dtype=float32)\n",
      "tf.Tensor([ 6.403124   5.0990195 14.56022  ], shape=(3,), dtype=float32)\n"
     ]
    }
   ],
   "source": [
    "dist = tf.norm(x - y, axis=-1)\n",
    "print(dist)\n",
    "dist = tf.norm(x - y, axis=-2)\n",
    "print(dist)"
   ]
  },
  {
   "cell_type": "code",
   "execution_count": null,
   "metadata": {},
   "outputs": [],
   "source": []
  }
 ],
 "metadata": {
  "kernelspec": {
   "display_name": "Python 3.9.5 64-bit",
   "language": "python",
   "name": "python3"
  },
  "language_info": {
   "codemirror_mode": {
    "name": "ipython",
    "version": 3
   },
   "file_extension": ".py",
   "mimetype": "text/x-python",
   "name": "python",
   "nbconvert_exporter": "python",
   "pygments_lexer": "ipython3",
   "version": "3.9.5"
  },
  "orig_nbformat": 4,
  "vscode": {
   "interpreter": {
    "hash": "60fb7ef1192aa6fe512e5c59a07a31c96e6aeffb2298c33dcc1a15b626ec40ca"
   }
  }
 },
 "nbformat": 4,
 "nbformat_minor": 2
}
