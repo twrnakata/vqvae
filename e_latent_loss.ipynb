{
 "cells": [
  {
   "cell_type": "code",
   "execution_count": 12,
   "metadata": {},
   "outputs": [],
   "source": [
    "import tensorflow as tf"
   ]
  },
  {
   "cell_type": "code",
   "execution_count": 13,
   "metadata": {},
   "outputs": [],
   "source": [
    "x = tf.constant([[1., 1.], [2., 2.]])\n",
    "y = tf.constant([[-9., -5.], [-11., -21.]])\n"
   ]
  },
  {
   "cell_type": "code",
   "execution_count": 14,
   "metadata": {},
   "outputs": [
    {
     "name": "stdout",
     "output_type": "stream",
     "text": [
      "tf.Tensor(208.5, shape=(), dtype=float32)\n"
     ]
    }
   ],
   "source": [
    "e_latent_loss = tf.reduce_mean((tf.stop_gradient(x) - y) ** 2)\n",
    "print(e_latent_loss)"
   ]
  },
  {
   "cell_type": "code",
   "execution_count": 15,
   "metadata": {},
   "outputs": [
    {
     "name": "stdout",
     "output_type": "stream",
     "text": [
      "tf.Tensor(208.5, shape=(), dtype=float32)\n"
     ]
    }
   ],
   "source": [
    "e_latent_loss = tf.reduce_mean((tf.stop_gradient(y) - x) ** 2)\n",
    "print(e_latent_loss)"
   ]
  },
  {
   "cell_type": "code",
   "execution_count": null,
   "metadata": {},
   "outputs": [],
   "source": []
  }
 ],
 "metadata": {
  "kernelspec": {
   "display_name": "Python 3.9.5 64-bit",
   "language": "python",
   "name": "python3"
  },
  "language_info": {
   "codemirror_mode": {
    "name": "ipython",
    "version": 3
   },
   "file_extension": ".py",
   "mimetype": "text/x-python",
   "name": "python",
   "nbconvert_exporter": "python",
   "pygments_lexer": "ipython3",
   "version": "3.9.5"
  },
  "orig_nbformat": 4,
  "vscode": {
   "interpreter": {
    "hash": "60fb7ef1192aa6fe512e5c59a07a31c96e6aeffb2298c33dcc1a15b626ec40ca"
   }
  }
 },
 "nbformat": 4,
 "nbformat_minor": 2
}
