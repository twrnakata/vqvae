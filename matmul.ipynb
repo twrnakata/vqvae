{
 "cells": [
  {
   "cell_type": "code",
   "execution_count": 76,
   "metadata": {},
   "outputs": [],
   "source": [
    "import tensorflow as tf"
   ]
  },
  {
   "cell_type": "code",
   "execution_count": 77,
   "metadata": {},
   "outputs": [],
   "source": [
    "# x = tf.constant([num for num in range(1,28) ], shape=[3,3,3], dtype=tf.float32)\n",
    "\n",
    "\n",
    "\n",
    "encoder = tf.constant([\n",
    "    [1, 2],\n",
    "    [4, 5],\n",
    "    [6, 7],\n",
    "    [14, 1],\n",
    "    [8, 5],\n",
    "    [567, 747],\n",
    "    [1, 2],\n",
    "    [4, 5],\n",
    "    [6, 7],\n",
    "    [14, 1],\n",
    "    [8, 5],\n",
    "    [567, 747]\n",
    "    ], dtype=tf.float32)\n",
    "\n",
    "\n",
    "codebook = tf.constant([\n",
    "    [1, 2],\n",
    "    [4, 5],\n",
    "    [6, 7],\n",
    "    [14, 1],\n",
    "    [8, 5],\n",
    "    [567, 747]\n",
    "    ], dtype=tf.float32)\n"
   ]
  },
  {
   "cell_type": "code",
   "execution_count": 78,
   "metadata": {},
   "outputs": [
    {
     "name": "stdout",
     "output_type": "stream",
     "text": [
      "tf.Tensor(\n",
      "[[  1.   2.]\n",
      " [  4.   5.]\n",
      " [  6.   7.]\n",
      " [ 14.   1.]\n",
      " [  8.   5.]\n",
      " [567. 747.]\n",
      " [  1.   2.]\n",
      " [  4.   5.]\n",
      " [  6.   7.]\n",
      " [ 14.   1.]\n",
      " [  8.   5.]\n",
      " [567. 747.]], shape=(12, 2), dtype=float32)\n",
      "tf.Tensor(\n",
      "[[  1.   2.]\n",
      " [  4.   5.]\n",
      " [  6.   7.]\n",
      " [ 14.   1.]\n",
      " [  8.   5.]\n",
      " [567. 747.]], shape=(6, 2), dtype=float32)\n"
     ]
    }
   ],
   "source": [
    "print(encoder)\n",
    "print(codebook)"
   ]
  },
  {
   "cell_type": "code",
   "execution_count": 83,
   "metadata": {},
   "outputs": [],
   "source": [
    "# result = tf.matmul(encoder, codebook)\n",
    "# result = tf.matmul(encoder, codebook,transpose_a = True)\n",
    "result = tf.matmul(encoder, codebook,transpose_b = True)"
   ]
  },
  {
   "cell_type": "code",
   "execution_count": 80,
   "metadata": {},
   "outputs": [
    {
     "name": "stdout",
     "output_type": "stream",
     "text": [
      "tf.Tensor(\n",
      "[[5.00000e+00 1.40000e+01 2.00000e+01 1.60000e+01 1.80000e+01 2.06100e+03]\n",
      " [1.40000e+01 4.10000e+01 5.90000e+01 6.10000e+01 5.70000e+01 6.00300e+03]\n",
      " [2.00000e+01 5.90000e+01 8.50000e+01 9.10000e+01 8.30000e+01 8.63100e+03]\n",
      " [1.60000e+01 6.10000e+01 9.10000e+01 1.97000e+02 1.17000e+02 8.68500e+03]\n",
      " [1.80000e+01 5.70000e+01 8.30000e+01 1.17000e+02 8.90000e+01 8.27100e+03]\n",
      " [2.06100e+03 6.00300e+03 8.63100e+03 8.68500e+03 8.27100e+03 8.79498e+05]\n",
      " [5.00000e+00 1.40000e+01 2.00000e+01 1.60000e+01 1.80000e+01 2.06100e+03]\n",
      " [1.40000e+01 4.10000e+01 5.90000e+01 6.10000e+01 5.70000e+01 6.00300e+03]\n",
      " [2.00000e+01 5.90000e+01 8.50000e+01 9.10000e+01 8.30000e+01 8.63100e+03]\n",
      " [1.60000e+01 6.10000e+01 9.10000e+01 1.97000e+02 1.17000e+02 8.68500e+03]\n",
      " [1.80000e+01 5.70000e+01 8.30000e+01 1.17000e+02 8.90000e+01 8.27100e+03]\n",
      " [2.06100e+03 6.00300e+03 8.63100e+03 8.68500e+03 8.27100e+03 8.79498e+05]], shape=(12, 6), dtype=float32)\n"
     ]
    }
   ],
   "source": [
    "print(result)"
   ]
  },
  {
   "cell_type": "code",
   "execution_count": null,
   "metadata": {},
   "outputs": [],
   "source": []
  }
 ],
 "metadata": {
  "kernelspec": {
   "display_name": "Python 3.9.12 ('gpu-gan')",
   "language": "python",
   "name": "python3"
  },
  "language_info": {
   "codemirror_mode": {
    "name": "ipython",
    "version": 3
   },
   "file_extension": ".py",
   "mimetype": "text/x-python",
   "name": "python",
   "nbconvert_exporter": "python",
   "pygments_lexer": "ipython3",
   "version": "3.9.12"
  },
  "orig_nbformat": 4,
  "vscode": {
   "interpreter": {
    "hash": "b06aa430c4fb633b1dd0a1a893f1bc87d8421f34b3777c6b5eb422d863f7be59"
   }
  }
 },
 "nbformat": 4,
 "nbformat_minor": 2
}
